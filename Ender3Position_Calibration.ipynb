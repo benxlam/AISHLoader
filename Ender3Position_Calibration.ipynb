{
 "cells": [
  {
   "cell_type": "code",
   "execution_count": 1,
   "metadata": {},
   "outputs": [
    {
     "name": "stderr",
     "output_type": "stream",
     "text": [
      "24-12-09 13:23:53.837 INFO    : AISHLoader - Connecting to Ender3 on port: /dev/tty.usbmodem141101\n",
      "24-12-09 13:23:53.843 INFO    : Ender3 - Connected on port: /dev/tty.usbmodem141101\n",
      "24-12-09 13:23:53.949 INFO    : Ender3 - Initiating homing routine\n"
     ]
    },
    {
     "name": "stdout",
     "output_type": "stream",
     "text": [
      "[[ 39.1    176.       3.    ]\n",
      " [ 39.35   136.35     3.    ]\n",
      " [ 39.6     96.7      3.    ]\n",
      " [ 39.85    57.05     3.    ]\n",
      " [ 40.1     17.4      3.    ]\n",
      " [ 79.65   177.      12.    ]\n",
      " [ 59.7375 132.75     9.    ]\n",
      " [ 39.825   88.5      6.    ]\n",
      " [ 19.9125  44.25     3.    ]\n",
      " [  0.       0.       0.    ]]\n"
     ]
    },
    {
     "name": "stderr",
     "output_type": "stream",
     "text": [
      "24-12-09 13:23:54.055 DEBUG   : Ender3 - Starting move from [0. 0. 0.] to (0.0, 0.0, 30.0)\n",
      "24-12-09 13:24:00.720 DEBUG   : Ender3 - Moved to:  (0.0, 0.0, 30.0)\n",
      "24-12-09 13:24:13.929 DEBUG   : Ender3 - Position updated from [ 0.  0. 30.] to [0. 0. 0.]\n",
      "24-12-09 13:24:13.931 INFO    : Ender3 - Homing routine complete\n",
      "24-12-09 13:24:13.932 INFO    : AISHLoader - Connecting to Arduino on port: /dev/tty.usbmodem141201\n"
     ]
    },
    {
     "ename": "Exception",
     "evalue": "Failed to connect to Arduino",
     "output_type": "error",
     "traceback": [
      "\u001b[0;31m---------------------------------------------------------------------------\u001b[0m",
      "\u001b[0;31mAttributeError\u001b[0m                            Traceback (most recent call last)",
      "File \u001b[0;32m~/Documents/GitHub/AISHLoader/ArduinoHardware.py:37\u001b[0m, in \u001b[0;36mArduinoHardware.__init__\u001b[0;34m(self, PORT)\u001b[0m\n\u001b[1;32m     35\u001b[0m \u001b[38;5;28;01mtry\u001b[39;00m:\n\u001b[1;32m     36\u001b[0m     \u001b[38;5;66;03m# Create a new board instance at the specified port\u001b[39;00m\n\u001b[0;32m---> 37\u001b[0m     \u001b[38;5;28mself\u001b[39m\u001b[38;5;241m.\u001b[39mboard \u001b[38;5;241m=\u001b[39m \u001b[43mpyfirmata\u001b[49m\u001b[38;5;241;43m.\u001b[39;49m\u001b[43mArduino\u001b[49m\u001b[43m(\u001b[49m\u001b[43mPORT\u001b[49m\u001b[43m)\u001b[49m\n\u001b[1;32m     39\u001b[0m     \u001b[38;5;66;03m# Start iterator to avoid buffer overflow\u001b[39;00m\n",
      "File \u001b[0;32m/opt/miniconda3/lib/python3.12/site-packages/pyfirmata/__init__.py:19\u001b[0m, in \u001b[0;36mArduino.__init__\u001b[0;34m(self, *args, **kwargs)\u001b[0m\n\u001b[1;32m     18\u001b[0m args\u001b[38;5;241m.\u001b[39mappend(BOARDS[\u001b[38;5;124m'\u001b[39m\u001b[38;5;124marduino\u001b[39m\u001b[38;5;124m'\u001b[39m])\n\u001b[0;32m---> 19\u001b[0m \u001b[38;5;28;43msuper\u001b[39;49m\u001b[43m(\u001b[49m\u001b[43mArduino\u001b[49m\u001b[43m,\u001b[49m\u001b[43m \u001b[49m\u001b[38;5;28;43mself\u001b[39;49m\u001b[43m)\u001b[49m\u001b[38;5;241;43m.\u001b[39;49m\u001b[38;5;21;43m__init__\u001b[39;49m\u001b[43m(\u001b[49m\u001b[38;5;241;43m*\u001b[39;49m\u001b[43margs\u001b[49m\u001b[43m,\u001b[49m\u001b[43m \u001b[49m\u001b[38;5;241;43m*\u001b[39;49m\u001b[38;5;241;43m*\u001b[39;49m\u001b[43mkwargs\u001b[49m\u001b[43m)\u001b[49m\n",
      "File \u001b[0;32m/opt/miniconda3/lib/python3.12/site-packages/pyfirmata/pyfirmata.py:101\u001b[0m, in \u001b[0;36mBoard.__init__\u001b[0;34m(self, port, layout, baudrate, name, timeout)\u001b[0m\n\u001b[1;32m    100\u001b[0m \u001b[38;5;28;01mif\u001b[39;00m layout:\n\u001b[0;32m--> 101\u001b[0m     \u001b[38;5;28;43mself\u001b[39;49m\u001b[38;5;241;43m.\u001b[39;49m\u001b[43msetup_layout\u001b[49m\u001b[43m(\u001b[49m\u001b[43mlayout\u001b[49m\u001b[43m)\u001b[49m\n\u001b[1;32m    102\u001b[0m \u001b[38;5;28;01melse\u001b[39;00m:\n",
      "File \u001b[0;32m/opt/miniconda3/lib/python3.12/site-packages/pyfirmata/pyfirmata.py:157\u001b[0m, in \u001b[0;36mBoard.setup_layout\u001b[0;34m(self, board_layout)\u001b[0m\n\u001b[1;32m    154\u001b[0m \u001b[38;5;28mself\u001b[39m\u001b[38;5;241m.\u001b[39mtaken \u001b[38;5;241m=\u001b[39m {\u001b[38;5;124m'\u001b[39m\u001b[38;5;124manalog\u001b[39m\u001b[38;5;124m'\u001b[39m: \u001b[38;5;28mdict\u001b[39m(\u001b[38;5;28mmap\u001b[39m(\u001b[38;5;28;01mlambda\u001b[39;00m p: (p\u001b[38;5;241m.\u001b[39mpin_number, \u001b[38;5;28;01mFalse\u001b[39;00m), \u001b[38;5;28mself\u001b[39m\u001b[38;5;241m.\u001b[39manalog)),\n\u001b[1;32m    155\u001b[0m               \u001b[38;5;124m'\u001b[39m\u001b[38;5;124mdigital\u001b[39m\u001b[38;5;124m'\u001b[39m: \u001b[38;5;28mdict\u001b[39m(\u001b[38;5;28mmap\u001b[39m(\u001b[38;5;28;01mlambda\u001b[39;00m p: (p\u001b[38;5;241m.\u001b[39mpin_number, \u001b[38;5;28;01mFalse\u001b[39;00m), \u001b[38;5;28mself\u001b[39m\u001b[38;5;241m.\u001b[39mdigital))}\n\u001b[0;32m--> 157\u001b[0m \u001b[38;5;28;43mself\u001b[39;49m\u001b[38;5;241;43m.\u001b[39;49m\u001b[43m_set_default_handlers\u001b[49m\u001b[43m(\u001b[49m\u001b[43m)\u001b[49m\n",
      "File \u001b[0;32m/opt/miniconda3/lib/python3.12/site-packages/pyfirmata/pyfirmata.py:161\u001b[0m, in \u001b[0;36mBoard._set_default_handlers\u001b[0;34m(self)\u001b[0m\n\u001b[1;32m    159\u001b[0m \u001b[38;5;28;01mdef\u001b[39;00m \u001b[38;5;21m_set_default_handlers\u001b[39m(\u001b[38;5;28mself\u001b[39m):\n\u001b[1;32m    160\u001b[0m     \u001b[38;5;66;03m# Setup default handlers for standard incoming commands\u001b[39;00m\n\u001b[0;32m--> 161\u001b[0m     \u001b[38;5;28;43mself\u001b[39;49m\u001b[38;5;241;43m.\u001b[39;49m\u001b[43madd_cmd_handler\u001b[49m\u001b[43m(\u001b[49m\u001b[43mANALOG_MESSAGE\u001b[49m\u001b[43m,\u001b[49m\u001b[43m \u001b[49m\u001b[38;5;28;43mself\u001b[39;49m\u001b[38;5;241;43m.\u001b[39;49m\u001b[43m_handle_analog_message\u001b[49m\u001b[43m)\u001b[49m\n\u001b[1;32m    162\u001b[0m     \u001b[38;5;28mself\u001b[39m\u001b[38;5;241m.\u001b[39madd_cmd_handler(DIGITAL_MESSAGE, \u001b[38;5;28mself\u001b[39m\u001b[38;5;241m.\u001b[39m_handle_digital_message)\n",
      "File \u001b[0;32m/opt/miniconda3/lib/python3.12/site-packages/pyfirmata/pyfirmata.py:185\u001b[0m, in \u001b[0;36mBoard.add_cmd_handler\u001b[0;34m(self, cmd, func)\u001b[0m\n\u001b[1;32m    184\u001b[0m \u001b[38;5;250m\u001b[39m\u001b[38;5;124;03m\"\"\"Adds a command handler for a command.\"\"\"\u001b[39;00m\n\u001b[0;32m--> 185\u001b[0m len_args \u001b[38;5;241m=\u001b[39m \u001b[38;5;28mlen\u001b[39m(\u001b[43minspect\u001b[49m\u001b[38;5;241;43m.\u001b[39;49m\u001b[43mgetargspec\u001b[49m(func)[\u001b[38;5;241m0\u001b[39m])\n\u001b[1;32m    187\u001b[0m \u001b[38;5;28;01mdef\u001b[39;00m \u001b[38;5;21madd_meta\u001b[39m(f):\n",
      "\u001b[0;31mAttributeError\u001b[0m: module 'inspect' has no attribute 'getargspec'",
      "\nDuring handling of the above exception, another exception occurred:\n",
      "\u001b[0;31mException\u001b[0m                                 Traceback (most recent call last)",
      "Cell \u001b[0;32mIn[1], line 4\u001b[0m\n\u001b[1;32m      2\u001b[0m PORT_ENDER \u001b[38;5;241m=\u001b[39m \u001b[38;5;124m'\u001b[39m\u001b[38;5;124m/dev/tty.usbmodem141101\u001b[39m\u001b[38;5;124m'\u001b[39m\n\u001b[1;32m      3\u001b[0m PORT_ARDUINO \u001b[38;5;241m=\u001b[39m \u001b[38;5;124m'\u001b[39m\u001b[38;5;124m/dev/tty.usbmodem141201\u001b[39m\u001b[38;5;124m'\u001b[39m\n\u001b[0;32m----> 4\u001b[0m aish_loader \u001b[38;5;241m=\u001b[39m \u001b[43mAISHLoader\u001b[49m\u001b[43m(\u001b[49m\u001b[43mPORT_ENDER\u001b[49m\u001b[43m,\u001b[49m\u001b[43m \u001b[49m\u001b[43mPORT_ARDUINO\u001b[49m\u001b[43m)\u001b[49m\n",
      "File \u001b[0;32m~/Documents/GitHub/AISHLoader/AISHLoader.py:27\u001b[0m, in \u001b[0;36mAISHLoader.__init__\u001b[0;34m(self, PORT_ENDER, PORT_ARDUINO)\u001b[0m\n\u001b[1;32m     25\u001b[0m \u001b[38;5;28mself\u001b[39m\u001b[38;5;241m.\u001b[39mender3 \u001b[38;5;241m=\u001b[39m Ender3(PORT_ENDER)\n\u001b[1;32m     26\u001b[0m logging\u001b[38;5;241m.\u001b[39minfo(\u001b[38;5;124mf\u001b[39m\u001b[38;5;124m\"\u001b[39m\u001b[38;5;124mAISHLoader - Connecting to Arduino on port: \u001b[39m\u001b[38;5;132;01m{\u001b[39;00mPORT_ARDUINO\u001b[38;5;132;01m}\u001b[39;00m\u001b[38;5;124m\"\u001b[39m)\n\u001b[0;32m---> 27\u001b[0m \u001b[38;5;28mself\u001b[39m\u001b[38;5;241m.\u001b[39marduino \u001b[38;5;241m=\u001b[39m \u001b[43mArduinoHardware\u001b[49m\u001b[43m(\u001b[49m\u001b[43mPORT_ARDUINO\u001b[49m\u001b[43m)\u001b[49m\n\u001b[1;32m     29\u001b[0m \u001b[38;5;66;03m# State variable to keep track of whether a sample is loaded or not\u001b[39;00m\n\u001b[1;32m     30\u001b[0m \u001b[38;5;28mself\u001b[39m\u001b[38;5;241m.\u001b[39mSAMPLE_LOADED \u001b[38;5;241m=\u001b[39m \u001b[38;5;28;01mNone\u001b[39;00m     \n",
      "File \u001b[0;32m~/Documents/GitHub/AISHLoader/ArduinoHardware.py:44\u001b[0m, in \u001b[0;36mArduinoHardware.__init__\u001b[0;34m(self, PORT)\u001b[0m\n\u001b[1;32m     42\u001b[0m     logging\u001b[38;5;241m.\u001b[39minfo(\u001b[38;5;124mf\u001b[39m\u001b[38;5;124m\"\u001b[39m\u001b[38;5;124mArduino - Connected on port: \u001b[39m\u001b[38;5;132;01m{\u001b[39;00mPORT\u001b[38;5;132;01m}\u001b[39;00m\u001b[38;5;124m\"\u001b[39m)\n\u001b[1;32m     43\u001b[0m \u001b[38;5;28;01mexcept\u001b[39;00m:\n\u001b[0;32m---> 44\u001b[0m     \u001b[38;5;28;01mraise\u001b[39;00m \u001b[38;5;167;01mException\u001b[39;00m(\u001b[38;5;124m\"\u001b[39m\u001b[38;5;124mFailed to connect to Arduino\u001b[39m\u001b[38;5;124m\"\u001b[39m)\n\u001b[1;32m     46\u001b[0m \u001b[38;5;66;03m# Attach the callback functions to the test commands\u001b[39;00m\n\u001b[1;32m     47\u001b[0m \u001b[38;5;28mself\u001b[39m\u001b[38;5;241m.\u001b[39mboard\u001b[38;5;241m.\u001b[39madd_cmd_handler(TEST_RESPONSE, \u001b[38;5;28mself\u001b[39m\u001b[38;5;241m.\u001b[39m_default_callback)\n",
      "\u001b[0;31mException\u001b[0m: Failed to connect to Arduino"
     ]
    }
   ],
   "source": [
    "from AISHLoader import AISHLoader\n",
    "PORT_ENDER = '/dev/tty.usbmodem141101'\n",
    "PORT_ARDUINO = '/dev/tty.usbmodem141201'\n",
    "aish_loader = AISHLoader(PORT_ENDER, PORT_ARDUINO)\n"
   ]
  }
 ],
 "metadata": {
  "kernelspec": {
   "display_name": ".venv",
   "language": "python",
   "name": "python3"
  },
  "language_info": {
   "codemirror_mode": {
    "name": "ipython",
    "version": 3
   },
   "file_extension": ".py",
   "mimetype": "text/x-python",
   "name": "python",
   "nbconvert_exporter": "python",
   "pygments_lexer": "ipython3",
   "version": "3.9.1"
  }
 },
 "nbformat": 4,
 "nbformat_minor": 2
}
