{
 "cells": [
  {
   "cell_type": "markdown",
   "metadata": {},
   "source": [
    "G-code is used to position the 3D printer.\n",
    "\n",
    "[G-code explainer](https://howtomechatronics.com/tutorials/g-code-explained-list-of-most-important-g-code-commands/#h-g17-g18-g18-g-code-plane-selection)\n",
    "\n",
    "[G-code library](https://marlinfw.org/docs/gcode/M203.html)\n",
    "\n",
    "G## X## Y## Z## F##\n",
    "- G## is the command\n",
    "- X,Y,Z are the positions we want to move to\n",
    "- F is the feed rate, how fast we want to move in units/min\n",
    "\n",
    " - G00 - move as fast as possible to XYZ\n",
    " - G01 - move at specified feed rate to XYZ\n",
    "\n",
    " - G20 - set units to in\n",
    "\n",
    " - G21 - set units to mm\n",
    " \n",
    " - M114 - Query current position"
   ]
  },
  {
   "cell_type": "markdown",
   "metadata": {},
   "source": [
    "Ender 3 Notes:\n",
    "\n",
    "XYZ Volume:\n",
    "- X [0, 235] mm (Arm position)\n",
    "- Y [0, 190] mm (Bed position, 235 is fully extended out)\n",
    "- Z (Arm height)"
   ]
  },
  {
   "cell_type": "code",
   "execution_count": null,
   "metadata": {},
   "outputs": [],
   "source": [
    "import serial\n",
    "import time\n",
    "\n",
    "PORT = '/dev/tty.usbmodem11401'\n",
    "\n",
    "ser=serial.Serial(PORT, 115200, timeout=1)\n",
    "\n",
    "\n",
    "# Set units to mm, set plane to XY, set positioning to absolute mode\n",
    "ser.write(str.encode(\"G21 G17 G90\\r\\n\")) \n",
    "\n",
    "\n",
    "print(f\"{time.strftime('%Y-%m-%d %H:%M:%S')} - Starting Command\")\n",
    "\n",
    "# Home all axes\n",
    "ser.write(str.encode(\"G28\\r\\n\"))\n",
    "end_time = time.time() + 10\n",
    "while time.time() < end_time:\n",
    "    line = ser.readline().decode('utf-8').strip()\n",
    "    if line:\n",
    "        print(f\"{time.strftime('%Y-%m-%d %H:%M:%S')} - {line}\")\n",
    "\n",
    "# ser.write(str.encode(\"G01 X0 Y0 Z60 F6000\\r\\n\"))\n"
   ]
  },
  {
   "cell_type": "code",
   "execution_count": 13,
   "metadata": {},
   "outputs": [
    {
     "name": "stdout",
     "output_type": "stream",
     "text": [
      "Connected to Ender 3\n",
      "Starting homing routine\n"
     ]
    }
   ],
   "source": [
    "from Ender3 import Ender3\n",
    "PORT = '/dev/tty.usbmodem1401'\n",
    "ender3 = Ender3(PORT)\n"
   ]
  },
  {
   "cell_type": "code",
   "execution_count": 23,
   "metadata": {},
   "outputs": [
    {
     "name": "stdout",
     "output_type": "stream",
     "text": [
      "Movement complete\n"
     ]
    }
   ],
   "source": [
    "ender3._move_to(235, 0, 20, 2000)\n"
   ]
  },
  {
   "cell_type": "code",
   "execution_count": null,
   "metadata": {},
   "outputs": [],
   "source": [
    "\n",
    "ender3.move_to_sample(0)\n",
    "ender3.move_to_stage()\n",
    "ender3.move_to_rest()\n",
    "ender3.move_to_stage()\n",
    "ender3.move_to_rest()\n",
    "ender3.move_to_sample(0)\n"
   ]
  },
  {
   "cell_type": "code",
   "execution_count": null,
   "metadata": {},
   "outputs": [],
   "source": [
    "sample_y_positions = [17, 47, 77, 107, 137, 167, 197]\n",
    "# ender3._move_to(12, 197, 8, 6000)\n",
    "for y_pos in sample_y_positions:\n",
    "    ender3._move_to(12, y_pos, 8, 6000)\n",
    "    \n",
    "\n"
   ]
  },
  {
   "cell_type": "code",
   "execution_count": null,
   "metadata": {},
   "outputs": [],
   "source": [
    "\n",
    "print(f\"{time.strftime('%Y-%m-%d %H:%M:%S')} - Starting Command\")\n",
    "ser.flushInput()\n",
    "ser.flushOutput()\n",
    "\n",
    "ser.write(str.encode(\"G00 X100 Y100 Z20\\n\"))\n",
    "\n",
    "end_time = time.time() + 6\n",
    "while time.time() < end_time:\n",
    "    ser.write(str.encode(\"M114\\n\"))\n",
    "    time.sleep(0.5)\n",
    "\n",
    "    line = ser.readline().decode('utf-8').strip()\n",
    "    if line:\n",
    "        print(f\"{time.strftime('%Y-%m-%d %H:%M:%S')} - {line}\")\n",
    "    line = \"\"\n",
    "\n",
    "# end_time = time.time() + 6\n",
    "# while time.time() < end_time:\n",
    "#     print(f\"{time.strftime('%Y-%m-%d %H:%M:%S')} - Sending read position command\")\n",
    "#     ser.write(str.encode(\"M114_REALTIME R\\n\"))\n",
    "#     line = ser.readline().decode('utf-8').strip()\n",
    "#     if line:\n",
    "#         print(f\"{time.strftime('%Y-%m-%d %H:%M:%S')} - {line}\")\n",
    "#     time.sleep(1)\n"
   ]
  },
  {
   "cell_type": "code",
   "execution_count": null,
   "metadata": {},
   "outputs": [],
   "source": [
    "ser.write(str.encode(\"G01 X0 Y0 Z0 F600\\r\\n\"))\n",
    "ser.write(str.encode(\"G00 X20 Y20 Z20\\r\\n\"))\n",
    "time.sleep(2)\n",
    "ser.write(str.encode(\"G01 X0 Y0 Z0 F600\\r\\n\"))\n"
   ]
  },
  {
   "cell_type": "code",
   "execution_count": null,
   "metadata": {},
   "outputs": [],
   "source": [
    "ser.write(str.encode(\"G01 X200 Y200 Z0 F1000\\r\\n\"))\n",
    "ser.write(str.encode(\"G01 X0 Y0 Z0 F1000\\r\\n\"))\n"
   ]
  }
 ],
 "metadata": {
  "kernelspec": {
   "display_name": "base",
   "language": "python",
   "name": "python3"
  },
  "language_info": {
   "codemirror_mode": {
    "name": "ipython",
    "version": 3
   },
   "file_extension": ".py",
   "mimetype": "text/x-python",
   "name": "python",
   "nbconvert_exporter": "python",
   "pygments_lexer": "ipython3",
   "version": "3.12.2"
  }
 },
 "nbformat": 4,
 "nbformat_minor": 2
}
