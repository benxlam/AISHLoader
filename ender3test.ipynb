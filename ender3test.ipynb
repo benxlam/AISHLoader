{
 "cells": [
  {
   "cell_type": "markdown",
   "metadata": {},
   "source": [
    "G-code is used to position the 3D printer.\n",
    "\n",
    "[G-code explainer](https://howtomechatronics.com/tutorials/g-code-explained-list-of-most-important-g-code-commands/#h-g17-g18-g18-g-code-plane-selection)\n",
    "\n",
    "[G-code library](https://marlinfw.org/docs/gcode/M203.html)\n",
    "\n",
    "G## X## Y## Z## F##\n",
    "- G## is the command\n",
    "- X,Y,Z are the positions we want to move to\n",
    "- F is the feed rate, how fast we want to move in units/min\n",
    "\n",
    " - G00 - move as fast as possible to XYZ\n",
    " - G01 - move at specified feed rate to XYZ\n",
    "\n",
    " - G20 - set units to in\n",
    "\n",
    " - G21 - set units to mm\n",
    " \n",
    " - M114 - Query current position"
   ]
  },
  {
   "cell_type": "markdown",
   "metadata": {},
   "source": [
    "Ender 3 Notes:\n",
    "\n",
    "XYZ Volume:\n",
    "- X [0, 235] mm (Arm position)\n",
    "- Y [0, 190] mm (Bed position, 235 is fully extended out)\n",
    "- Z (Arm height)"
   ]
  },
  {
   "cell_type": "code",
   "execution_count": null,
   "metadata": {},
   "outputs": [
    {
     "name": "stdout",
     "output_type": "stream",
     "text": [
      "2024-11-08 12:05:31 - Starting Command\n",
      "2024-11-08 12:05:31 - Starting Query\n",
      "2024-11-08 12:05:31 - Reading Serial\n",
      "2024-11-08 12:05:31 - \n",
      "2024-11-08 12:05:32 - Reading Serial\n",
      "2024-11-08 12:05:32 - ok\n",
      "2024-11-08 12:05:32 - Reading Serial\n",
      "2024-11-08 12:05:32 - \n",
      "2024-11-08 12:05:33 - Reading Serial\n",
      "2024-11-08 12:05:33 - \n",
      "2024-11-08 12:05:33 - Reading Serial\n",
      "2024-11-08 12:05:33 - echo:busy: processing\n",
      "2024-11-08 12:05:34 - Reading Serial\n",
      "2024-11-08 12:05:34 - \n",
      "2024-11-08 12:05:34 - Reading Serial\n",
      "2024-11-08 12:05:34 - \n",
      "2024-11-08 12:05:35 - Reading Serial\n",
      "2024-11-08 12:05:35 - \n",
      "2024-11-08 12:05:35 - Reading Serial\n",
      "2024-11-08 12:05:35 - echo:busy: processing\n",
      "2024-11-08 12:05:36 - Reading Serial\n",
      "2024-11-08 12:05:36 - \n",
      "2024-11-08 12:05:36 - Reading Serial\n",
      "2024-11-08 12:05:36 - \n",
      "2024-11-08 12:05:37 - Reading Serial\n",
      "2024-11-08 12:05:37 - \n",
      "2024-11-08 12:05:37 - Reading Serial\n",
      "2024-11-08 12:05:37 - echo:busy: processing\n",
      "2024-11-08 12:05:38 - Reading Serial\n",
      "2024-11-08 12:05:38 - \n",
      "2024-11-08 12:05:38 - Reading Serial\n",
      "2024-11-08 12:05:38 - \n",
      "2024-11-08 12:05:39 - Reading Serial\n",
      "2024-11-08 12:05:39 - \n",
      "2024-11-08 12:05:39 - Reading Serial\n",
      "2024-11-08 12:05:39 - echo:busy: processing\n",
      "2024-11-08 12:05:40 - Reading Serial\n",
      "2024-11-08 12:05:40 - \n",
      "2024-11-08 12:05:40 - Reading Serial\n",
      "2024-11-08 12:05:40 - \n",
      "2024-11-08 12:05:41 - Reading Serial\n",
      "2024-11-08 12:05:41 - \n",
      "2024-11-08 12:05:41 - Reading Serial\n",
      "2024-11-08 12:05:41 - echo:busy: processing\n",
      "2024-11-08 12:05:42 - Reading Serial\n",
      "2024-11-08 12:05:42 - \n",
      "2024-11-08 12:05:42 - Reading Serial\n",
      "2024-11-08 12:05:42 - \n",
      "2024-11-08 12:05:43 - Reading Serial\n",
      "2024-11-08 12:05:43 - \n",
      "2024-11-08 12:05:43 - Reading Serial\n",
      "2024-11-08 12:05:43 - echo:busy: processing\n",
      "2024-11-08 12:05:44 - Reading Serial\n",
      "2024-11-08 12:05:44 - ok\n",
      "X:100.00 Y:0.00 Z:20.00 E:0.00 Count X:8000 Y:0 Z:8000\n",
      "ok\n",
      "2024-11-08 12:05:44 - Reading Serial\n",
      "2024-11-08 12:05:44 - \n",
      "2024-11-08 12:05:45 - Reading Serial\n",
      "2024-11-08 12:05:45 - \n",
      "2024-11-08 12:05:45 - Reading Serial\n",
      "2024-11-08 12:05:45 - \n",
      "2024-11-08 12:05:46 - Reading Serial\n",
      "2024-11-08 12:05:46 - \n",
      "2024-11-08 12:05:46 - Reading Serial\n",
      "2024-11-08 12:05:46 - \n",
      "2024-11-08 12:05:47 - Reading Serial\n",
      "2024-11-08 12:05:47 - \n",
      "2024-11-08 12:05:47 - Reading Serial\n",
      "2024-11-08 12:05:47 - \n",
      "2024-11-08 12:05:48 - Reading Serial\n",
      "2024-11-08 12:05:48 - \n",
      "2024-11-08 12:05:48 - Reading Serial\n",
      "2024-11-08 12:05:48 - \n",
      "2024-11-08 12:05:49 - Reading Serial\n",
      "2024-11-08 12:05:49 - \n",
      "2024-11-08 12:05:49 - Reading Serial\n",
      "2024-11-08 12:05:49 - \n",
      "2024-11-08 12:05:50 - Reading Serial\n",
      "2024-11-08 12:05:50 - \n",
      "2024-11-08 12:05:51 - Reading Serial\n",
      "2024-11-08 12:05:51 - \n",
      "2024-11-08 12:05:51 - Reading Serial\n",
      "2024-11-08 12:05:51 - \n"
     ]
    }
   ],
   "source": [
    "import serial\n",
    "import time\n",
    "\n",
    "PORT = '/dev/tty.usbmodem1401'\n",
    "\n",
    "ser=serial.Serial(PORT, 115200, timeout=1)\n",
    "ser.flushInput(); ser.flushOutput()\n",
    "\n",
    "print(f\"{time.strftime('%Y-%m-%d %H:%M:%S')} - Starting Command\")\n",
    "ser.write(str.encode(\"G01 X100 Y0 Z20 F1000\\r\\n\"))\n",
    "ser.write(str.encode(\"M400 \\n\"))\n",
    "ser.write(str.encode(\"M114 \\n\"))\n",
    "\n",
    "max_time = 20\n",
    "start_time = time.time()\n",
    "print(f\"{time.strftime('%Y-%m-%d %H:%M:%S')} - Starting Query\")\n",
    "while time.time() - start_time < max_time:\n",
    "    print(f\"{time.strftime('%Y-%m-%d %H:%M:%S')} - Reading Serial\")\n",
    "\n",
    "    response = ser.read_all().decode('utf-8').strip()\n",
    "    \n",
    "    #Print with timestamp\n",
    "    print(f\"{time.strftime('%Y-%m-%d %H:%M:%S')} - {response}\")\n",
    "\n",
    "    time.sleep(0.5)\n",
    "\n",
    "\n",
    "\n",
    "\n",
    "# # Set units to mm, set plane to XY, set positioning to absolute mode\n",
    "# ser.write(str.encode(\"G21 G17 G90\\r\\n\")) \n",
    "\n",
    "\n",
    "# print(f\"{time.strftime('%Y-%m-%d %H:%M:%S')} - Starting Command\")\n",
    "\n",
    "# # Home all axes\n",
    "# ser.write(str.encode(\"G28\\r\\n\"))\n",
    "# end_time = time.time() + 10\n",
    "# while time.time() < end_time:\n",
    "#     line = ser.readline().decode('utf-8').strip()\n",
    "#     if line:\n",
    "#         print(f\"{time.strftime('%Y-%m-%d %H:%M:%S')} - {line}\")\n",
    "\n",
    "# ser.write(str.encode(\"G01 X0 Y0 Z60 F6000\\r\\n\"))\n"
   ]
  },
  {
   "cell_type": "code",
   "execution_count": null,
   "metadata": {},
   "outputs": [
    {
     "name": "stdout",
     "output_type": "stream",
     "text": [
      "Connected to Ender 3\n",
      "Starting homing routine\n"
     ]
    }
   ],
   "source": [
    "from Ender3 import Ender3; ender3 = Ender3('/dev/tty.usbmodem1401')\n",
    "from ArduinoHardware import ArduinoHardware; arduino = ArduinoHardware('/dev/tty.usbmodem1201')\n"
   ]
  },
  {
   "cell_type": "code",
   "execution_count": null,
   "metadata": {},
   "outputs": [
    {
     "name": "stdout",
     "output_type": "stream",
     "text": [
      "Movement complete\n"
     ]
    }
   ],
   "source": [
    "import re\n",
    "\n",
    "string = \"\"\"ok\n",
    "X:100.00 Y:0.00 Z:20.00 E:0.00 Count X:8000 Y:0 Z:8000 \n",
    "ok\"\"\"\n",
    "match = re.search(r\"X:(\\d+\\.\\d+) Y:(\\d+\\.\\d+) Z:(\\d+\\.\\d+)\", string)\n",
    "\n",
    "if match:\n",
    "    x, y, z = match.groups()\n"
   ]
  },
  {
   "cell_type": "code",
   "execution_count": null,
   "metadata": {},
   "outputs": [],
   "source": [
    "\n",
    "ender3.move_to_sample(0)\n",
    "ender3.move_to_stage()\n",
    "ender3.move_to_rest()\n",
    "ender3.move_to_stage()\n",
    "ender3.move_to_rest()\n",
    "ender3.move_to_sample(0)\n"
   ]
  },
  {
   "cell_type": "code",
   "execution_count": null,
   "metadata": {},
   "outputs": [],
   "source": [
    "sample_y_positions = [17, 47, 77, 107, 137, 167, 197]\n",
    "# ender3._move_to(12, 197, 8, 6000)\n",
    "for y_pos in sample_y_positions:\n",
    "    ender3._move_to(12, y_pos, 8, 6000)\n",
    "    \n",
    "\n"
   ]
  },
  {
   "cell_type": "code",
   "execution_count": null,
   "metadata": {},
   "outputs": [],
   "source": [
    "\n",
    "print(f\"{time.strftime('%Y-%m-%d %H:%M:%S')} - Starting Command\")\n",
    "ser.flushInput()\n",
    "ser.flushOutput()\n",
    "\n",
    "ser.write(str.encode(\"G00 X100 Y100 Z20\\n\"))\n",
    "\n",
    "end_time = time.time() + 6\n",
    "while time.time() < end_time:\n",
    "    ser.write(str.encode(\"M114\\n\"))\n",
    "    time.sleep(0.5)\n",
    "\n",
    "    line = ser.readline().decode('utf-8').strip()\n",
    "    if line:\n",
    "        print(f\"{time.strftime('%Y-%m-%d %H:%M:%S')} - {line}\")\n",
    "    line = \"\"\n",
    "\n",
    "# end_time = time.time() + 6\n",
    "# while time.time() < end_time:\n",
    "#     print(f\"{time.strftime('%Y-%m-%d %H:%M:%S')} - Sending read position command\")\n",
    "#     ser.write(str.encode(\"M114_REALTIME R\\n\"))\n",
    "#     line = ser.readline().decode('utf-8').strip()\n",
    "#     if line:\n",
    "#         print(f\"{time.strftime('%Y-%m-%d %H:%M:%S')} - {line}\")\n",
    "#     time.sleep(1)\n"
   ]
  },
  {
   "cell_type": "code",
   "execution_count": null,
   "metadata": {},
   "outputs": [],
   "source": [
    "ser.write(str.encode(\"G01 X0 Y0 Z0 F600\\r\\n\"))\n",
    "ser.write(str.encode(\"G00 X20 Y20 Z20\\r\\n\"))\n",
    "time.sleep(2)\n",
    "ser.write(str.encode(\"G01 X0 Y0 Z0 F600\\r\\n\"))\n"
   ]
  },
  {
   "cell_type": "code",
   "execution_count": null,
   "metadata": {},
   "outputs": [],
   "source": [
    "ser.write(str.encode(\"G01 X200 Y200 Z0 F1000\\r\\n\"))\n",
    "ser.write(str.encode(\"G01 X0 Y0 Z0 F1000\\r\\n\"))\n"
   ]
  }
 ],
 "metadata": {
  "kernelspec": {
   "display_name": "base",
   "language": "python",
   "name": "python3"
  },
  "language_info": {
   "codemirror_mode": {
    "name": "ipython",
    "version": 3
   },
   "file_extension": ".py",
   "mimetype": "text/x-python",
   "name": "python",
   "nbconvert_exporter": "python",
   "pygments_lexer": "ipython3",
   "version": "3.12.2"
  }
 },
 "nbformat": 4,
 "nbformat_minor": 2
}
