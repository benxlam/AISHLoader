{
 "cells": [
  {
   "cell_type": "markdown",
   "metadata": {},
   "source": [
    "G-code is used to position the 3D printer.\n",
    "\n",
    "[G-code explainer](https://howtomechatronics.com/tutorials/g-code-explained-list-of-most-important-g-code-commands/#h-g17-g18-g18-g-code-plane-selection)\n",
    "\n",
    "[G-code library](https://marlinfw.org/docs/gcode/M203.html)\n",
    "\n",
    "G## X## Y## Z## F##\n",
    "- G## is the command\n",
    "- X,Y,Z are the positions we want to move to\n",
    "- F is the feed rate, how fast we want to move in units/min\n",
    "\n",
    " - G00 - move as fast as possible to XYZ\n",
    " - G01 - move at specified feed rate to XYZ\n",
    "\n",
    " - G20 - set units to in\n",
    "\n",
    " - G21 - set units to mm"
   ]
  },
  {
   "cell_type": "markdown",
   "metadata": {},
   "source": [
    "Ender 3 Notes:\n",
    "\n",
    "XYZ Volume:\n",
    "- X [0, 200] mm (Arm position)\n",
    "- Y [0, 235] mm (Bed position, 235 is fully extended out)\n",
    "- Z (Arm height)"
   ]
  },
  {
   "cell_type": "code",
   "execution_count": 3,
   "metadata": {},
   "outputs": [
    {
     "data": {
      "text/plain": [
       "13"
      ]
     },
     "execution_count": 3,
     "metadata": {},
     "output_type": "execute_result"
    }
   ],
   "source": [
    "import serial\n",
    "import time\n",
    "\n",
    "PORT = '/dev/tty.usbmodem1401'\n",
    "\n",
    "ser=serial.Serial(PORT, 115200)\n",
    "\n",
    "# Home all axes\n",
    "ser.write(str.encode(\"G28\\r\\n\"))\n",
    "# Set units to mm, set plane to XY, set positioning to absolute mode\n",
    "ser.write(str.encode(\"G21 G17 G90\\r\\n\"))  \n",
    "\n"
   ]
  },
  {
   "cell_type": "code",
   "execution_count": 114,
   "metadata": {},
   "outputs": [
    {
     "data": {
      "text/plain": [
       "24"
      ]
     },
     "execution_count": 114,
     "metadata": {},
     "output_type": "execute_result"
    }
   ],
   "source": [
    "\n",
    "ser.write(str.encode(\"G01 X200 Y235 Z0 F1000\\r\\n\"))\n"
   ]
  },
  {
   "cell_type": "code",
   "execution_count": 67,
   "metadata": {},
   "outputs": [
    {
     "data": {
      "text/plain": [
       "19"
      ]
     },
     "execution_count": 67,
     "metadata": {},
     "output_type": "execute_result"
    }
   ],
   "source": [
    "ser.write(str.encode(\"G01 X0 Y0 Z0 F600\\r\\n\"))\n",
    "ser.write(str.encode(\"G00 X20 Y20 Z20\\r\\n\"))\n",
    "time.sleep(2)\n",
    "ser.write(str.encode(\"G01 X0 Y0 Z0 F600\\r\\n\"))\n"
   ]
  },
  {
   "cell_type": "code",
   "execution_count": 29,
   "metadata": {},
   "outputs": [
    {
     "data": {
      "text/plain": [
       "20"
      ]
     },
     "execution_count": 29,
     "metadata": {},
     "output_type": "execute_result"
    }
   ],
   "source": [
    "ser.write(str.encode(\"G01 X200 Y200 Z0 F1000\\r\\n\"))\n",
    "ser.write(str.encode(\"G01 X0 Y0 Z0 F1000\\r\\n\"))\n"
   ]
  }
 ],
 "metadata": {
  "kernelspec": {
   "display_name": "base",
   "language": "python",
   "name": "python3"
  },
  "language_info": {
   "codemirror_mode": {
    "name": "ipython",
    "version": 3
   },
   "file_extension": ".py",
   "mimetype": "text/x-python",
   "name": "python",
   "nbconvert_exporter": "python",
   "pygments_lexer": "ipython3",
   "version": "3.12.2"
  }
 },
 "nbformat": 4,
 "nbformat_minor": 2
}
